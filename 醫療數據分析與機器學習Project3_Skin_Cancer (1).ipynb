{
  "cells": [
    {
      "cell_type": "markdown",
      "source": [
        "## 資料來源\n",
        "Skin Cancer MNIST: HAM10000 https://www.kaggle.com/kmader/skin-cancer-mnist-ham10000"
      ],
      "metadata": {
        "id": "FqKcnA8_KhQk"
      }
    },
    {
      "cell_type": "markdown",
      "metadata": {
        "id": "SrIpVxPUW6Wc"
      },
      "source": [
        "### 資料準備"
      ]
    },
    {
      "cell_type": "code",
      "execution_count": null,
      "metadata": {
        "id": "Euy03USAW6Wf"
      },
      "outputs": [],
      "source": [
        "#keras.utils: 做one-hot encoding用\n",
        "#sklearn.model_selection: 分割訓練集和測試集\n",
        "#os: 用來建立檔案、刪除檔案\n",
        "#PIL: (圖像處理庫)匯入圖像\n",
        "#seed: 設定種子，使每次隨機產生的資料有相同結果。可將數字改成自己的學號(或其他數字)\n",
        "import numpy as np\n",
        "import pandas as pd\n",
        "from keras.utils import np_utils\n",
        "from sklearn.model_selection import train_test_split\n",
        "import os\n",
        "from PIL import Image\n",
        "np.random.seed(408570291)"
      ]
    },
    {
      "cell_type": "code",
      "execution_count": null,
      "metadata": {
        "id": "Hll3Nn6_W6Wi"
      },
      "outputs": [],
      "source": [
        "#7項皮膚疾病簡稱與全名\n",
        "lesion_type_dict = {\n",
        "    'nv': 'Melanocytic nevi',\n",
        "    'mel': 'Melanoma',\n",
        "    'bkl': 'Benign keratosis-like lesions ',\n",
        "    'bcc': 'Basal cell carcinoma',\n",
        "    'akiec': 'Actinic keratoses',\n",
        "    'vasc': 'Vascular lesions',\n",
        "    'df': 'Dermatofibroma'\n",
        "}"
      ]
    },
    {
      "cell_type": "code",
      "source": [
        "pd.Categorical(lesion_type_dict).codes"
      ],
      "metadata": {
        "colab": {
          "base_uri": "https://localhost:8080/"
        },
        "id": "dym8GPaBhjeI",
        "outputId": "e85da1ea-344b-4dcb-e2eb-148c706a7951"
      },
      "execution_count": null,
      "outputs": [
        {
          "output_type": "execute_result",
          "data": {
            "text/plain": [
              "array([5, 4, 2, 1, 0, 6, 3], dtype=int8)"
            ]
          },
          "metadata": {},
          "execution_count": 46
        }
      ]
    },
    {
      "cell_type": "code",
      "source": [
        "# Download from Google Drive\n",
        "!gdown --id 1orCwIp_avT4Yg9lCT8pjImwzqBg4_xiI\n",
        "!unzip project03.zip"
      ],
      "metadata": {
        "colab": {
          "base_uri": "https://localhost:8080/"
        },
        "id": "vo21fcddNwZ3",
        "outputId": "5b09c896-77ca-4ab3-e6b1-12618f3b2e7e"
      },
      "execution_count": null,
      "outputs": [
        {
          "output_type": "stream",
          "name": "stdout",
          "text": [
            "Downloading...\n",
            "From: https://drive.google.com/uc?id=1orCwIp_avT4Yg9lCT8pjImwzqBg4_xiI\n",
            "To: /content/project03.zip\n",
            "100% 26.6M/26.6M [00:00<00:00, 162MB/s]\n",
            "Archive:  project03.zip\n",
            "replace project3_test.csv? [y]es, [n]o, [A]ll, [N]one, [r]ename: A\n",
            "  inflating: project3_test.csv       \n",
            "  inflating: project3_train.csv      \n"
          ]
        }
      ]
    },
    {
      "cell_type": "code",
      "execution_count": null,
      "metadata": {
        "id": "kbjekU96W6Wj"
      },
      "outputs": [],
      "source": [
        "#讀取影像資料，28*28*3個像素值欄位(pixel0000-pixel2351) + 1個分類類別欄位label\n",
        "load_img = pd.read_csv('project3_train.csv')"
      ]
    },
    {
      "cell_type": "code",
      "execution_count": null,
      "metadata": {
        "scrolled": true,
        "id": "DP0POhPcW6Wk",
        "outputId": "765a0a7a-d1df-449f-83fa-cc4dbbd31f1a",
        "colab": {
          "base_uri": "https://localhost:8080/",
          "height": 299
        }
      },
      "outputs": [
        {
          "output_type": "execute_result",
          "data": {
            "text/html": [
              "\n",
              "  <div id=\"df-45ecf4d1-3ae8-444c-aefa-d68838b6b35b\">\n",
              "    <div class=\"colab-df-container\">\n",
              "      <div>\n",
              "<style scoped>\n",
              "    .dataframe tbody tr th:only-of-type {\n",
              "        vertical-align: middle;\n",
              "    }\n",
              "\n",
              "    .dataframe tbody tr th {\n",
              "        vertical-align: top;\n",
              "    }\n",
              "\n",
              "    .dataframe thead th {\n",
              "        text-align: right;\n",
              "    }\n",
              "</style>\n",
              "<table border=\"1\" class=\"dataframe\">\n",
              "  <thead>\n",
              "    <tr style=\"text-align: right;\">\n",
              "      <th></th>\n",
              "      <th>pixel0000</th>\n",
              "      <th>pixel0001</th>\n",
              "      <th>pixel0002</th>\n",
              "      <th>pixel0003</th>\n",
              "      <th>pixel0004</th>\n",
              "      <th>pixel0005</th>\n",
              "      <th>pixel0006</th>\n",
              "      <th>pixel0007</th>\n",
              "      <th>pixel0008</th>\n",
              "      <th>pixel0009</th>\n",
              "      <th>pixel0010</th>\n",
              "      <th>pixel0011</th>\n",
              "      <th>pixel0012</th>\n",
              "      <th>pixel0013</th>\n",
              "      <th>pixel0014</th>\n",
              "      <th>pixel0015</th>\n",
              "      <th>pixel0016</th>\n",
              "      <th>pixel0017</th>\n",
              "      <th>pixel0018</th>\n",
              "      <th>pixel0019</th>\n",
              "      <th>pixel0020</th>\n",
              "      <th>pixel0021</th>\n",
              "      <th>pixel0022</th>\n",
              "      <th>pixel0023</th>\n",
              "      <th>pixel0024</th>\n",
              "      <th>pixel0025</th>\n",
              "      <th>pixel0026</th>\n",
              "      <th>pixel0027</th>\n",
              "      <th>pixel0028</th>\n",
              "      <th>pixel0029</th>\n",
              "      <th>pixel0030</th>\n",
              "      <th>pixel0031</th>\n",
              "      <th>pixel0032</th>\n",
              "      <th>pixel0033</th>\n",
              "      <th>pixel0034</th>\n",
              "      <th>pixel0035</th>\n",
              "      <th>pixel0036</th>\n",
              "      <th>pixel0037</th>\n",
              "      <th>pixel0038</th>\n",
              "      <th>pixel0039</th>\n",
              "      <th>...</th>\n",
              "      <th>pixel2313</th>\n",
              "      <th>pixel2314</th>\n",
              "      <th>pixel2315</th>\n",
              "      <th>pixel2316</th>\n",
              "      <th>pixel2317</th>\n",
              "      <th>pixel2318</th>\n",
              "      <th>pixel2319</th>\n",
              "      <th>pixel2320</th>\n",
              "      <th>pixel2321</th>\n",
              "      <th>pixel2322</th>\n",
              "      <th>pixel2323</th>\n",
              "      <th>pixel2324</th>\n",
              "      <th>pixel2325</th>\n",
              "      <th>pixel2326</th>\n",
              "      <th>pixel2327</th>\n",
              "      <th>pixel2328</th>\n",
              "      <th>pixel2329</th>\n",
              "      <th>pixel2330</th>\n",
              "      <th>pixel2331</th>\n",
              "      <th>pixel2332</th>\n",
              "      <th>pixel2333</th>\n",
              "      <th>pixel2334</th>\n",
              "      <th>pixel2335</th>\n",
              "      <th>pixel2336</th>\n",
              "      <th>pixel2337</th>\n",
              "      <th>pixel2338</th>\n",
              "      <th>pixel2339</th>\n",
              "      <th>pixel2340</th>\n",
              "      <th>pixel2341</th>\n",
              "      <th>pixel2342</th>\n",
              "      <th>pixel2343</th>\n",
              "      <th>pixel2344</th>\n",
              "      <th>pixel2345</th>\n",
              "      <th>pixel2346</th>\n",
              "      <th>pixel2347</th>\n",
              "      <th>pixel2348</th>\n",
              "      <th>pixel2349</th>\n",
              "      <th>pixel2350</th>\n",
              "      <th>pixel2351</th>\n",
              "      <th>label</th>\n",
              "    </tr>\n",
              "  </thead>\n",
              "  <tbody>\n",
              "    <tr>\n",
              "      <th>0</th>\n",
              "      <td>30</td>\n",
              "      <td>15</td>\n",
              "      <td>20</td>\n",
              "      <td>35</td>\n",
              "      <td>19</td>\n",
              "      <td>27</td>\n",
              "      <td>94</td>\n",
              "      <td>69</td>\n",
              "      <td>73</td>\n",
              "      <td>152</td>\n",
              "      <td>124</td>\n",
              "      <td>120</td>\n",
              "      <td>183</td>\n",
              "      <td>147</td>\n",
              "      <td>139</td>\n",
              "      <td>198</td>\n",
              "      <td>157</td>\n",
              "      <td>157</td>\n",
              "      <td>205</td>\n",
              "      <td>162</td>\n",
              "      <td>166</td>\n",
              "      <td>212</td>\n",
              "      <td>173</td>\n",
              "      <td>178</td>\n",
              "      <td>218</td>\n",
              "      <td>184</td>\n",
              "      <td>184</td>\n",
              "      <td>218</td>\n",
              "      <td>179</td>\n",
              "      <td>176</td>\n",
              "      <td>219</td>\n",
              "      <td>181</td>\n",
              "      <td>174</td>\n",
              "      <td>219</td>\n",
              "      <td>178</td>\n",
              "      <td>184</td>\n",
              "      <td>219</td>\n",
              "      <td>179</td>\n",
              "      <td>190</td>\n",
              "      <td>217</td>\n",
              "      <td>...</td>\n",
              "      <td>210</td>\n",
              "      <td>168</td>\n",
              "      <td>170</td>\n",
              "      <td>209</td>\n",
              "      <td>168</td>\n",
              "      <td>170</td>\n",
              "      <td>199</td>\n",
              "      <td>152</td>\n",
              "      <td>151</td>\n",
              "      <td>192</td>\n",
              "      <td>140</td>\n",
              "      <td>140</td>\n",
              "      <td>188</td>\n",
              "      <td>147</td>\n",
              "      <td>152</td>\n",
              "      <td>157</td>\n",
              "      <td>119</td>\n",
              "      <td>111</td>\n",
              "      <td>107</td>\n",
              "      <td>73</td>\n",
              "      <td>70</td>\n",
              "      <td>48</td>\n",
              "      <td>29</td>\n",
              "      <td>36</td>\n",
              "      <td>35</td>\n",
              "      <td>18</td>\n",
              "      <td>24</td>\n",
              "      <td>33</td>\n",
              "      <td>17</td>\n",
              "      <td>20</td>\n",
              "      <td>22</td>\n",
              "      <td>9</td>\n",
              "      <td>13</td>\n",
              "      <td>11</td>\n",
              "      <td>2</td>\n",
              "      <td>4</td>\n",
              "      <td>9</td>\n",
              "      <td>1</td>\n",
              "      <td>0</td>\n",
              "      <td>0</td>\n",
              "    </tr>\n",
              "    <tr>\n",
              "      <th>1</th>\n",
              "      <td>1</td>\n",
              "      <td>0</td>\n",
              "      <td>0</td>\n",
              "      <td>7</td>\n",
              "      <td>1</td>\n",
              "      <td>5</td>\n",
              "      <td>103</td>\n",
              "      <td>56</td>\n",
              "      <td>68</td>\n",
              "      <td>192</td>\n",
              "      <td>136</td>\n",
              "      <td>143</td>\n",
              "      <td>208</td>\n",
              "      <td>156</td>\n",
              "      <td>164</td>\n",
              "      <td>210</td>\n",
              "      <td>161</td>\n",
              "      <td>169</td>\n",
              "      <td>208</td>\n",
              "      <td>159</td>\n",
              "      <td>160</td>\n",
              "      <td>205</td>\n",
              "      <td>153</td>\n",
              "      <td>149</td>\n",
              "      <td>208</td>\n",
              "      <td>154</td>\n",
              "      <td>151</td>\n",
              "      <td>211</td>\n",
              "      <td>160</td>\n",
              "      <td>161</td>\n",
              "      <td>212</td>\n",
              "      <td>162</td>\n",
              "      <td>165</td>\n",
              "      <td>214</td>\n",
              "      <td>167</td>\n",
              "      <td>171</td>\n",
              "      <td>215</td>\n",
              "      <td>170</td>\n",
              "      <td>173</td>\n",
              "      <td>208</td>\n",
              "      <td>...</td>\n",
              "      <td>202</td>\n",
              "      <td>152</td>\n",
              "      <td>154</td>\n",
              "      <td>202</td>\n",
              "      <td>153</td>\n",
              "      <td>154</td>\n",
              "      <td>203</td>\n",
              "      <td>149</td>\n",
              "      <td>145</td>\n",
              "      <td>201</td>\n",
              "      <td>145</td>\n",
              "      <td>141</td>\n",
              "      <td>203</td>\n",
              "      <td>155</td>\n",
              "      <td>151</td>\n",
              "      <td>206</td>\n",
              "      <td>161</td>\n",
              "      <td>160</td>\n",
              "      <td>207</td>\n",
              "      <td>164</td>\n",
              "      <td>166</td>\n",
              "      <td>205</td>\n",
              "      <td>162</td>\n",
              "      <td>159</td>\n",
              "      <td>205</td>\n",
              "      <td>166</td>\n",
              "      <td>166</td>\n",
              "      <td>196</td>\n",
              "      <td>149</td>\n",
              "      <td>151</td>\n",
              "      <td>127</td>\n",
              "      <td>72</td>\n",
              "      <td>74</td>\n",
              "      <td>24</td>\n",
              "      <td>5</td>\n",
              "      <td>6</td>\n",
              "      <td>0</td>\n",
              "      <td>1</td>\n",
              "      <td>1</td>\n",
              "      <td>0</td>\n",
              "    </tr>\n",
              "    <tr>\n",
              "      <th>2</th>\n",
              "      <td>129</td>\n",
              "      <td>91</td>\n",
              "      <td>92</td>\n",
              "      <td>182</td>\n",
              "      <td>145</td>\n",
              "      <td>145</td>\n",
              "      <td>205</td>\n",
              "      <td>169</td>\n",
              "      <td>168</td>\n",
              "      <td>189</td>\n",
              "      <td>154</td>\n",
              "      <td>154</td>\n",
              "      <td>194</td>\n",
              "      <td>162</td>\n",
              "      <td>162</td>\n",
              "      <td>210</td>\n",
              "      <td>176</td>\n",
              "      <td>173</td>\n",
              "      <td>209</td>\n",
              "      <td>176</td>\n",
              "      <td>175</td>\n",
              "      <td>212</td>\n",
              "      <td>183</td>\n",
              "      <td>183</td>\n",
              "      <td>215</td>\n",
              "      <td>189</td>\n",
              "      <td>194</td>\n",
              "      <td>217</td>\n",
              "      <td>190</td>\n",
              "      <td>199</td>\n",
              "      <td>218</td>\n",
              "      <td>191</td>\n",
              "      <td>201</td>\n",
              "      <td>218</td>\n",
              "      <td>190</td>\n",
              "      <td>197</td>\n",
              "      <td>218</td>\n",
              "      <td>190</td>\n",
              "      <td>201</td>\n",
              "      <td>217</td>\n",
              "      <td>...</td>\n",
              "      <td>210</td>\n",
              "      <td>177</td>\n",
              "      <td>179</td>\n",
              "      <td>215</td>\n",
              "      <td>184</td>\n",
              "      <td>187</td>\n",
              "      <td>211</td>\n",
              "      <td>176</td>\n",
              "      <td>174</td>\n",
              "      <td>212</td>\n",
              "      <td>175</td>\n",
              "      <td>176</td>\n",
              "      <td>215</td>\n",
              "      <td>186</td>\n",
              "      <td>190</td>\n",
              "      <td>215</td>\n",
              "      <td>187</td>\n",
              "      <td>193</td>\n",
              "      <td>203</td>\n",
              "      <td>170</td>\n",
              "      <td>162</td>\n",
              "      <td>196</td>\n",
              "      <td>158</td>\n",
              "      <td>150</td>\n",
              "      <td>181</td>\n",
              "      <td>144</td>\n",
              "      <td>141</td>\n",
              "      <td>139</td>\n",
              "      <td>104</td>\n",
              "      <td>99</td>\n",
              "      <td>64</td>\n",
              "      <td>39</td>\n",
              "      <td>41</td>\n",
              "      <td>5</td>\n",
              "      <td>2</td>\n",
              "      <td>6</td>\n",
              "      <td>2</td>\n",
              "      <td>2</td>\n",
              "      <td>1</td>\n",
              "      <td>0</td>\n",
              "    </tr>\n",
              "    <tr>\n",
              "      <th>3</th>\n",
              "      <td>9</td>\n",
              "      <td>8</td>\n",
              "      <td>8</td>\n",
              "      <td>11</td>\n",
              "      <td>10</td>\n",
              "      <td>10</td>\n",
              "      <td>10</td>\n",
              "      <td>9</td>\n",
              "      <td>9</td>\n",
              "      <td>24</td>\n",
              "      <td>15</td>\n",
              "      <td>15</td>\n",
              "      <td>107</td>\n",
              "      <td>86</td>\n",
              "      <td>81</td>\n",
              "      <td>194</td>\n",
              "      <td>175</td>\n",
              "      <td>169</td>\n",
              "      <td>223</td>\n",
              "      <td>202</td>\n",
              "      <td>200</td>\n",
              "      <td>228</td>\n",
              "      <td>209</td>\n",
              "      <td>209</td>\n",
              "      <td>229</td>\n",
              "      <td>208</td>\n",
              "      <td>208</td>\n",
              "      <td>230</td>\n",
              "      <td>207</td>\n",
              "      <td>208</td>\n",
              "      <td>229</td>\n",
              "      <td>205</td>\n",
              "      <td>202</td>\n",
              "      <td>228</td>\n",
              "      <td>208</td>\n",
              "      <td>205</td>\n",
              "      <td>224</td>\n",
              "      <td>197</td>\n",
              "      <td>189</td>\n",
              "      <td>220</td>\n",
              "      <td>...</td>\n",
              "      <td>204</td>\n",
              "      <td>131</td>\n",
              "      <td>112</td>\n",
              "      <td>208</td>\n",
              "      <td>145</td>\n",
              "      <td>134</td>\n",
              "      <td>211</td>\n",
              "      <td>155</td>\n",
              "      <td>146</td>\n",
              "      <td>212</td>\n",
              "      <td>167</td>\n",
              "      <td>165</td>\n",
              "      <td>212</td>\n",
              "      <td>175</td>\n",
              "      <td>175</td>\n",
              "      <td>213</td>\n",
              "      <td>182</td>\n",
              "      <td>185</td>\n",
              "      <td>188</td>\n",
              "      <td>161</td>\n",
              "      <td>159</td>\n",
              "      <td>105</td>\n",
              "      <td>80</td>\n",
              "      <td>75</td>\n",
              "      <td>26</td>\n",
              "      <td>16</td>\n",
              "      <td>14</td>\n",
              "      <td>9</td>\n",
              "      <td>8</td>\n",
              "      <td>9</td>\n",
              "      <td>11</td>\n",
              "      <td>9</td>\n",
              "      <td>10</td>\n",
              "      <td>8</td>\n",
              "      <td>7</td>\n",
              "      <td>7</td>\n",
              "      <td>5</td>\n",
              "      <td>5</td>\n",
              "      <td>5</td>\n",
              "      <td>0</td>\n",
              "    </tr>\n",
              "    <tr>\n",
              "      <th>4</th>\n",
              "      <td>26</td>\n",
              "      <td>13</td>\n",
              "      <td>19</td>\n",
              "      <td>25</td>\n",
              "      <td>10</td>\n",
              "      <td>17</td>\n",
              "      <td>24</td>\n",
              "      <td>6</td>\n",
              "      <td>5</td>\n",
              "      <td>23</td>\n",
              "      <td>4</td>\n",
              "      <td>0</td>\n",
              "      <td>29</td>\n",
              "      <td>12</td>\n",
              "      <td>12</td>\n",
              "      <td>43</td>\n",
              "      <td>28</td>\n",
              "      <td>42</td>\n",
              "      <td>45</td>\n",
              "      <td>29</td>\n",
              "      <td>43</td>\n",
              "      <td>53</td>\n",
              "      <td>33</td>\n",
              "      <td>40</td>\n",
              "      <td>113</td>\n",
              "      <td>74</td>\n",
              "      <td>80</td>\n",
              "      <td>149</td>\n",
              "      <td>107</td>\n",
              "      <td>116</td>\n",
              "      <td>163</td>\n",
              "      <td>118</td>\n",
              "      <td>127</td>\n",
              "      <td>174</td>\n",
              "      <td>131</td>\n",
              "      <td>139</td>\n",
              "      <td>178</td>\n",
              "      <td>133</td>\n",
              "      <td>138</td>\n",
              "      <td>175</td>\n",
              "      <td>...</td>\n",
              "      <td>171</td>\n",
              "      <td>117</td>\n",
              "      <td>139</td>\n",
              "      <td>174</td>\n",
              "      <td>125</td>\n",
              "      <td>144</td>\n",
              "      <td>168</td>\n",
              "      <td>115</td>\n",
              "      <td>129</td>\n",
              "      <td>173</td>\n",
              "      <td>128</td>\n",
              "      <td>146</td>\n",
              "      <td>172</td>\n",
              "      <td>127</td>\n",
              "      <td>144</td>\n",
              "      <td>158</td>\n",
              "      <td>96</td>\n",
              "      <td>109</td>\n",
              "      <td>152</td>\n",
              "      <td>99</td>\n",
              "      <td>110</td>\n",
              "      <td>135</td>\n",
              "      <td>94</td>\n",
              "      <td>100</td>\n",
              "      <td>92</td>\n",
              "      <td>59</td>\n",
              "      <td>64</td>\n",
              "      <td>43</td>\n",
              "      <td>24</td>\n",
              "      <td>31</td>\n",
              "      <td>22</td>\n",
              "      <td>6</td>\n",
              "      <td>9</td>\n",
              "      <td>27</td>\n",
              "      <td>9</td>\n",
              "      <td>10</td>\n",
              "      <td>23</td>\n",
              "      <td>5</td>\n",
              "      <td>6</td>\n",
              "      <td>0</td>\n",
              "    </tr>\n",
              "  </tbody>\n",
              "</table>\n",
              "<p>5 rows × 2353 columns</p>\n",
              "</div>\n",
              "      <button class=\"colab-df-convert\" onclick=\"convertToInteractive('df-45ecf4d1-3ae8-444c-aefa-d68838b6b35b')\"\n",
              "              title=\"Convert this dataframe to an interactive table.\"\n",
              "              style=\"display:none;\">\n",
              "        \n",
              "  <svg xmlns=\"http://www.w3.org/2000/svg\" height=\"24px\"viewBox=\"0 0 24 24\"\n",
              "       width=\"24px\">\n",
              "    <path d=\"M0 0h24v24H0V0z\" fill=\"none\"/>\n",
              "    <path d=\"M18.56 5.44l.94 2.06.94-2.06 2.06-.94-2.06-.94-.94-2.06-.94 2.06-2.06.94zm-11 1L8.5 8.5l.94-2.06 2.06-.94-2.06-.94L8.5 2.5l-.94 2.06-2.06.94zm10 10l.94 2.06.94-2.06 2.06-.94-2.06-.94-.94-2.06-.94 2.06-2.06.94z\"/><path d=\"M17.41 7.96l-1.37-1.37c-.4-.4-.92-.59-1.43-.59-.52 0-1.04.2-1.43.59L10.3 9.45l-7.72 7.72c-.78.78-.78 2.05 0 2.83L4 21.41c.39.39.9.59 1.41.59.51 0 1.02-.2 1.41-.59l7.78-7.78 2.81-2.81c.8-.78.8-2.07 0-2.86zM5.41 20L4 18.59l7.72-7.72 1.47 1.35L5.41 20z\"/>\n",
              "  </svg>\n",
              "      </button>\n",
              "      \n",
              "  <style>\n",
              "    .colab-df-container {\n",
              "      display:flex;\n",
              "      flex-wrap:wrap;\n",
              "      gap: 12px;\n",
              "    }\n",
              "\n",
              "    .colab-df-convert {\n",
              "      background-color: #E8F0FE;\n",
              "      border: none;\n",
              "      border-radius: 50%;\n",
              "      cursor: pointer;\n",
              "      display: none;\n",
              "      fill: #1967D2;\n",
              "      height: 32px;\n",
              "      padding: 0 0 0 0;\n",
              "      width: 32px;\n",
              "    }\n",
              "\n",
              "    .colab-df-convert:hover {\n",
              "      background-color: #E2EBFA;\n",
              "      box-shadow: 0px 1px 2px rgba(60, 64, 67, 0.3), 0px 1px 3px 1px rgba(60, 64, 67, 0.15);\n",
              "      fill: #174EA6;\n",
              "    }\n",
              "\n",
              "    [theme=dark] .colab-df-convert {\n",
              "      background-color: #3B4455;\n",
              "      fill: #D2E3FC;\n",
              "    }\n",
              "\n",
              "    [theme=dark] .colab-df-convert:hover {\n",
              "      background-color: #434B5C;\n",
              "      box-shadow: 0px 1px 3px 1px rgba(0, 0, 0, 0.15);\n",
              "      filter: drop-shadow(0px 1px 2px rgba(0, 0, 0, 0.3));\n",
              "      fill: #FFFFFF;\n",
              "    }\n",
              "  </style>\n",
              "\n",
              "      <script>\n",
              "        const buttonEl =\n",
              "          document.querySelector('#df-45ecf4d1-3ae8-444c-aefa-d68838b6b35b button.colab-df-convert');\n",
              "        buttonEl.style.display =\n",
              "          google.colab.kernel.accessAllowed ? 'block' : 'none';\n",
              "\n",
              "        async function convertToInteractive(key) {\n",
              "          const element = document.querySelector('#df-45ecf4d1-3ae8-444c-aefa-d68838b6b35b');\n",
              "          const dataTable =\n",
              "            await google.colab.kernel.invokeFunction('convertToInteractive',\n",
              "                                                     [key], {});\n",
              "          if (!dataTable) return;\n",
              "\n",
              "          const docLinkHtml = 'Like what you see? Visit the ' +\n",
              "            '<a target=\"_blank\" href=https://colab.research.google.com/notebooks/data_table.ipynb>data table notebook</a>'\n",
              "            + ' to learn more about interactive tables.';\n",
              "          element.innerHTML = '';\n",
              "          dataTable['output_type'] = 'display_data';\n",
              "          await google.colab.output.renderOutput(dataTable, element);\n",
              "          const docLink = document.createElement('div');\n",
              "          docLink.innerHTML = docLinkHtml;\n",
              "          element.appendChild(docLink);\n",
              "        }\n",
              "      </script>\n",
              "    </div>\n",
              "  </div>\n",
              "  "
            ],
            "text/plain": [
              "   pixel0000  pixel0001  pixel0002  ...  pixel2350  pixel2351  label\n",
              "0         30         15         20  ...          1          0      0\n",
              "1          1          0          0  ...          1          1      0\n",
              "2        129         91         92  ...          2          1      0\n",
              "3          9          8          8  ...          5          5      0\n",
              "4         26         13         19  ...          5          6      0\n",
              "\n",
              "[5 rows x 2353 columns]"
            ]
          },
          "metadata": {},
          "execution_count": 49
        }
      ],
      "source": [
        "#列出data的標籤\n",
        "load_img.head()"
      ]
    },
    {
      "cell_type": "code",
      "execution_count": null,
      "metadata": {
        "id": "uZffXRF8W6Wk",
        "outputId": "f0861739-e8f7-4af2-b39b-a595569cc49d",
        "colab": {
          "base_uri": "https://localhost:8080/"
        }
      },
      "outputs": [
        {
          "output_type": "execute_result",
          "data": {
            "text/plain": [
              "(8008, 2353)"
            ]
          },
          "metadata": {},
          "execution_count": 50
        }
      ],
      "source": [
        "#檢查讀取圖片的大小與數量\n",
        "load_img.shape"
      ]
    },
    {
      "cell_type": "code",
      "source": [
        "load_img.iloc[: , :-1].values"
      ],
      "metadata": {
        "colab": {
          "base_uri": "https://localhost:8080/"
        },
        "id": "KiiHOi13ijJ1",
        "outputId": "2c3e425e-a0dc-4e6f-9e1d-1be2e039cbb0"
      },
      "execution_count": null,
      "outputs": [
        {
          "output_type": "execute_result",
          "data": {
            "text/plain": [
              "array([[ 30,  15,  20, ...,   9,   1,   0],\n",
              "       [  1,   0,   0, ...,   0,   1,   1],\n",
              "       [129,  91,  92, ...,   2,   2,   1],\n",
              "       ...,\n",
              "       [127, 101, 108, ..., 121, 108, 125],\n",
              "       [157,  82,  86, ..., 210, 126, 130],\n",
              "       [176, 149, 166, ..., 175, 142, 159]])"
            ]
          },
          "metadata": {},
          "execution_count": 51
        }
      ]
    },
    {
      "cell_type": "code",
      "execution_count": null,
      "metadata": {
        "id": "WV-MUvlxW6Wl"
      },
      "outputs": [],
      "source": [
        "#iloc選取特定範圍，讀取種類編號\n",
        "X_img , y_label = load_img.iloc[: , :-1].values , load_img.iloc[: , -1].values"
      ]
    },
    {
      "cell_type": "code",
      "execution_count": null,
      "metadata": {
        "id": "Swsho2fUW6Wm"
      },
      "outputs": [],
      "source": [
        "#將串列轉成矩陣\n",
        "X_img_train = np.asarray(X_img.tolist())\n",
        "\n",
        "#將一維的數據，轉換成三維(長*寬*RGB三色)\n",
        "X_img_train=X_img_train.reshape(X_img_train.shape[0],28,28,3)"
      ]
    },
    {
      "cell_type": "code",
      "execution_count": null,
      "metadata": {
        "id": "2zL55KNgW6Wn",
        "outputId": "b5543076-fac5-4039-a7b0-59b5489efccd",
        "colab": {
          "base_uri": "https://localhost:8080/"
        }
      },
      "outputs": [
        {
          "output_type": "stream",
          "name": "stdout",
          "text": [
            "train data: images: (8008, 28, 28, 3)  labels: (8008,)\n"
          ]
        }
      ],
      "source": [
        "#檢查學習資料的照片數量、尺寸大小、維度\n",
        "print(\"train data:\",'images:',X_img_train.shape,\" labels:\",y_label.shape) "
      ]
    },
    {
      "cell_type": "code",
      "execution_count": null,
      "metadata": {
        "id": "-3mFTd1qW6Wn"
      },
      "outputs": [],
      "source": [
        "#標準化: 同除255(因為image的數字是0~255)\n",
        "#X_img_train_normalize = X_img_train.astype('float32') / 255.0"
      ]
    },
    {
      "cell_type": "code",
      "execution_count": null,
      "metadata": {
        "id": "OlWZ2HiGW6Wo"
      },
      "outputs": [],
      "source": [
        "#使用np_utils.to_categorical()傳入各參數的label標籤欄位，再執行OneHot encoding (轉成0或1的組合)\n",
        "#y_label_train_OneHot = np_utils.to_categorical(y_label)"
      ]
    },
    {
      "cell_type": "code",
      "execution_count": null,
      "metadata": {
        "id": "4KWNp4ccW6Wo"
      },
      "outputs": [],
      "source": [
        "#檢查標籤總共有多少種分類\n",
        "#這裡是共8008筆資料，每筆是7個0或1的組合\n",
        "#y_label_train_OneHot.shape"
      ]
    },
    {
      "cell_type": "markdown",
      "metadata": {
        "id": "1H3QsbaKW6Wp"
      },
      "source": [
        "### 建立與訓練CNN模型"
      ]
    },
    {
      "cell_type": "code",
      "execution_count": null,
      "metadata": {
        "id": "2FI00vSgW6Wp"
      },
      "outputs": [],
      "source": [
        "#匯入keras中的Sequential、layers模組(Dense、 Dropout、 Activation、 Flatten、Conv2D、 MaxPooling2D、 ZeroPadding2D)\n",
        "from keras.models import Sequential\n",
        "from keras.layers import Dense, Dropout, Activation, Flatten\n",
        "from keras.layers import Conv2D, MaxPooling2D, ZeroPadding2D"
      ]
    },
    {
      "cell_type": "code",
      "source": [
        "# Design your CNN model\\\n",
        "\n",
        "#建立keras的Sequential模型\n",
        "model_cnn = Sequential()\n"
      ],
      "metadata": {
        "id": "r0NPL_dOjOmE"
      },
      "execution_count": null,
      "outputs": []
    },
    {
      "cell_type": "code",
      "source": [
        "model_cnn.add(Conv2D(filters=32,kernel_size=(3,3),input_shape=(28,28,3),\n",
        "                     activation='relu',padding='same'))\n",
        "\n",
        "model_cnn.add(Conv2D(filters=32,kernel_size=(3,3),\n",
        "                     activation='relu',padding='same'))\n",
        "model_cnn.add(Conv2D(filters=32,kernel_size=(3,3),\n",
        "                     activation='relu',padding='same'))\n",
        "\n",
        "model_cnn.add(MaxPooling2D(pool_size=(2,2)))\n",
        "\n",
        "\n",
        "\n",
        "model_cnn.add(Conv2D(filters=64,kernel_size=(3,3),\n",
        "                     activation='relu',padding='same'))\n",
        "model_cnn.add(Conv2D(filters=64,kernel_size=(3,3),\n",
        "                     activation='relu',padding='same'))\n",
        "model_cnn.add(MaxPooling2D(pool_size=(2,2)))\n",
        "\n",
        "\n",
        "model_cnn.add(Conv2D(filters=128,kernel_size=(3,3),\n",
        "                     activation='relu',padding='same'))\n",
        "model_cnn.add(Conv2D(filters=128,kernel_size=(3,3),\n",
        "                     activation='relu',padding='same'))\n",
        "model_cnn.add(MaxPooling2D(pool_size=(2,2)))\n",
        "\n",
        "\n",
        "model_cnn.add(Conv2D(filters=256,kernel_size=(3,3),\n",
        "                     activation='relu',padding='same'))\n",
        "model_cnn.add(Conv2D(filters=256,kernel_size=(3,3),\n",
        "                     activation='relu',padding='same'))\n",
        "model_cnn.add(MaxPooling2D(pool_size=(2,2)))\n",
        "\n",
        "\n",
        "\n",
        "model_cnn.add(Flatten())\n",
        "model_cnn.add(Dense(64,activation='relu'))\n",
        "model_cnn.add(Dropout(0.3))\n",
        "model_cnn.add(Dense(7,activation='softmax'))"
      ],
      "metadata": {
        "id": "kAAro6nzM9rF"
      },
      "execution_count": null,
      "outputs": []
    },
    {
      "cell_type": "code",
      "source": [
        "print(model_cnn.summary())"
      ],
      "metadata": {
        "colab": {
          "base_uri": "https://localhost:8080/"
        },
        "id": "2yqF_CggOsgs",
        "outputId": "5b39cb54-92eb-4f4b-80c6-99a0dc39922f"
      },
      "execution_count": null,
      "outputs": [
        {
          "output_type": "stream",
          "name": "stdout",
          "text": [
            "Model: \"sequential\"\n",
            "_________________________________________________________________\n",
            " Layer (type)                Output Shape              Param #   \n",
            "=================================================================\n",
            " conv2d_28 (Conv2D)          (None, 28, 28, 32)        896       \n",
            "                                                                 \n",
            " conv2d_29 (Conv2D)          (None, 28, 28, 32)        9248      \n",
            "                                                                 \n",
            " conv2d_30 (Conv2D)          (None, 28, 28, 32)        9248      \n",
            "                                                                 \n",
            " max_pooling2d (MaxPooling2D  (None, 14, 14, 32)       0         \n",
            " )                                                               \n",
            "                                                                 \n",
            " conv2d_31 (Conv2D)          (None, 14, 14, 64)        18496     \n",
            "                                                                 \n",
            " conv2d_32 (Conv2D)          (None, 14, 14, 64)        36928     \n",
            "                                                                 \n",
            " max_pooling2d_1 (MaxPooling  (None, 7, 7, 64)         0         \n",
            " 2D)                                                             \n",
            "                                                                 \n",
            " conv2d_33 (Conv2D)          (None, 7, 7, 128)         73856     \n",
            "                                                                 \n",
            " conv2d_34 (Conv2D)          (None, 7, 7, 128)         147584    \n",
            "                                                                 \n",
            " max_pooling2d_2 (MaxPooling  (None, 3, 3, 128)        0         \n",
            " 2D)                                                             \n",
            "                                                                 \n",
            " conv2d_35 (Conv2D)          (None, 3, 3, 256)         295168    \n",
            "                                                                 \n",
            " conv2d_36 (Conv2D)          (None, 3, 3, 256)         590080    \n",
            "                                                                 \n",
            " max_pooling2d_3 (MaxPooling  (None, 1, 1, 256)        0         \n",
            " 2D)                                                             \n",
            "                                                                 \n",
            " flatten (Flatten)           (None, 256)               0         \n",
            "                                                                 \n",
            " dense_1 (Dense)             (None, 64)                16448     \n",
            "                                                                 \n",
            " dropout (Dropout)           (None, 64)                0         \n",
            "                                                                 \n",
            " dense_2 (Dense)             (None, 7)                 455       \n",
            "                                                                 \n",
            "=================================================================\n",
            "Total params: 1,198,407\n",
            "Trainable params: 1,198,407\n",
            "Non-trainable params: 0\n",
            "_________________________________________________________________\n",
            "None\n"
          ]
        }
      ]
    },
    {
      "cell_type": "code",
      "source": [
        "from keras.callbacks import EarlyStopping, ReduceLROnPlateau\n",
        "early_stopping = EarlyStopping(monitor='val_loss',patience=20, verbose=1)\n",
        "reduce_lr = ReduceLROnPlateau(monitor='val_loss',factor=0.1,patience=10, verbose=1, min_lr=1e-6)"
      ],
      "metadata": {
        "id": "vSAHKArUO1PV"
      },
      "execution_count": null,
      "outputs": []
    },
    {
      "cell_type": "code",
      "source": [
        "model_cnn.compile(loss='categorical_crossentropy',optimizer='adam',metrics=['accuracy'])"
      ],
      "metadata": {
        "id": "Lm7bhJC3PqRE"
      },
      "execution_count": null,
      "outputs": []
    },
    {
      "cell_type": "code",
      "source": [
        "epochs=150\n",
        "batch_size=128\n",
        "\n",
        "x_train, x_validate, y_train, y_validate = train_test_split(X_img_train_normalize, y_label_train_OneHot, test_size=0.2, shuffle=True)\n",
        "\n",
        "#train_history=model_cnn.fit(x_train, y_train, batch_size=batch_size, validation_data=(x_validate,y_validate), epochs=epochs, verbose=1, callbacks=None)#callbacks=[early_stopping,reduce_lr]"
      ],
      "metadata": {
        "id": "HnUkgVuGQLB0"
      },
      "execution_count": null,
      "outputs": []
    },
    {
      "cell_type": "code",
      "source": [
        "import matplotlib.pyplot as plt\n",
        "def show_train_history(train_acc,test_acc, yAxisName):\n",
        "  plt.plot(train_history.history[train_acc])\n",
        "  plt.plot(train_history.history[test_acc])\n",
        "  plt.title('Train History')\n",
        "  plt.ylabel(yAxisName)\n",
        "  plt.xlabel('Epoch')\n",
        "  plt.legend(['train','val'], loc='upper left')\n",
        "  plt.show"
      ],
      "metadata": {
        "id": "fQCFbaU5YrjZ"
      },
      "execution_count": null,
      "outputs": []
    },
    {
      "cell_type": "code",
      "source": [
        "show_train_history('accuracy','val_accuracy','Accuracy')"
      ],
      "metadata": {
        "colab": {
          "base_uri": "https://localhost:8080/",
          "height": 294
        },
        "id": "CYfFUidkZqIY",
        "outputId": "b4c7f5a4-dfeb-41f8-f262-2f23b242b1fb"
      },
      "execution_count": null,
      "outputs": [
        {
          "output_type": "display_data",
          "data": {
            "image/png": "[encoded data removed]",
            "text/plain": [
              "<Figure size 432x288 with 1 Axes>"
            ]
          },
          "metadata": {
            "needs_background": "light"
          }
        }
      ]
    },
    {
      "cell_type": "code",
      "source": [
        "show_train_history('loss','val_loss','Loss')"
      ],
      "metadata": {
        "colab": {
          "base_uri": "https://localhost:8080/",
          "height": 294
        },
        "id": "jrTAw12ZaA04",
        "outputId": "9a009421-c69a-488b-b3e5-13e46dad5f44"
      },
      "execution_count": null,
      "outputs": [
        {
          "output_type": "display_data",
          "data": {
            "image/png": "[encoded data removed]",
            "text/plain": [
              "<Figure size 432x288 with 1 Axes>"
            ]
          },
          "metadata": {
            "needs_background": "light"
          }
        }
      ]
    },
    {
      "cell_type": "code",
      "source": [
        "scores = model_cnn.evaluate(x_validate, y_validate, verbose=0)\n",
        "scores[1]"
      ],
      "metadata": {
        "colab": {
          "base_uri": "https://localhost:8080/"
        },
        "id": "OVrCzFL7aLBZ",
        "outputId": "dbe6eb72-9bf5-46ef-eeb2-e9b1a9807adc"
      },
      "execution_count": null,
      "outputs": [
        {
          "output_type": "execute_result",
          "data": {
            "text/plain": [
              "0.7478152513504028"
            ]
          },
          "metadata": {},
          "execution_count": 273
        }
      ]
    },
    {
      "cell_type": "code",
      "source": [
        "prediction = np.argmax(model_cnn.predict(x_validate), axis=-1)\n",
        "pd.crosstab(np.argmax(y_validate, axis=-1), prediction, rownames=['label'], colnames=['predict'])"
      ],
      "metadata": {
        "colab": {
          "base_uri": "https://localhost:8080/",
          "height": 287
        },
        "id": "cIirvZ61aiIv",
        "outputId": "fe000dee-9da4-4c63-b248-13e7ee1f6a88"
      },
      "execution_count": null,
      "outputs": [
        {
          "output_type": "execute_result",
          "data": {
            "text/html": [
              "\n",
              "  <div id=\"df-11571c1c-a3ac-4091-9575-0cb95a08df8b\">\n",
              "    <div class=\"colab-df-container\">\n",
              "      <div>\n",
              "<style scoped>\n",
              "    .dataframe tbody tr th:only-of-type {\n",
              "        vertical-align: middle;\n",
              "    }\n",
              "\n",
              "    .dataframe tbody tr th {\n",
              "        vertical-align: top;\n",
              "    }\n",
              "\n",
              "    .dataframe thead th {\n",
              "        text-align: right;\n",
              "    }\n",
              "</style>\n",
              "<table border=\"1\" class=\"dataframe\">\n",
              "  <thead>\n",
              "    <tr style=\"text-align: right;\">\n",
              "      <th>predict</th>\n",
              "      <th>0</th>\n",
              "      <th>1</th>\n",
              "      <th>2</th>\n",
              "      <th>3</th>\n",
              "      <th>4</th>\n",
              "      <th>5</th>\n",
              "      <th>6</th>\n",
              "    </tr>\n",
              "    <tr>\n",
              "      <th>label</th>\n",
              "      <th></th>\n",
              "      <th></th>\n",
              "      <th></th>\n",
              "      <th></th>\n",
              "      <th></th>\n",
              "      <th></th>\n",
              "      <th></th>\n",
              "    </tr>\n",
              "  </thead>\n",
              "  <tbody>\n",
              "    <tr>\n",
              "      <th>0</th>\n",
              "      <td>18</td>\n",
              "      <td>9</td>\n",
              "      <td>12</td>\n",
              "      <td>1</td>\n",
              "      <td>5</td>\n",
              "      <td>0</td>\n",
              "      <td>3</td>\n",
              "    </tr>\n",
              "    <tr>\n",
              "      <th>1</th>\n",
              "      <td>13</td>\n",
              "      <td>42</td>\n",
              "      <td>15</td>\n",
              "      <td>3</td>\n",
              "      <td>16</td>\n",
              "      <td>0</td>\n",
              "      <td>5</td>\n",
              "    </tr>\n",
              "    <tr>\n",
              "      <th>2</th>\n",
              "      <td>7</td>\n",
              "      <td>9</td>\n",
              "      <td>74</td>\n",
              "      <td>0</td>\n",
              "      <td>58</td>\n",
              "      <td>0</td>\n",
              "      <td>18</td>\n",
              "    </tr>\n",
              "    <tr>\n",
              "      <th>3</th>\n",
              "      <td>1</td>\n",
              "      <td>5</td>\n",
              "      <td>0</td>\n",
              "      <td>6</td>\n",
              "      <td>5</td>\n",
              "      <td>0</td>\n",
              "      <td>1</td>\n",
              "    </tr>\n",
              "    <tr>\n",
              "      <th>4</th>\n",
              "      <td>2</td>\n",
              "      <td>16</td>\n",
              "      <td>29</td>\n",
              "      <td>3</td>\n",
              "      <td>961</td>\n",
              "      <td>3</td>\n",
              "      <td>50</td>\n",
              "    </tr>\n",
              "    <tr>\n",
              "      <th>5</th>\n",
              "      <td>1</td>\n",
              "      <td>4</td>\n",
              "      <td>0</td>\n",
              "      <td>0</td>\n",
              "      <td>6</td>\n",
              "      <td>15</td>\n",
              "      <td>2</td>\n",
              "    </tr>\n",
              "    <tr>\n",
              "      <th>6</th>\n",
              "      <td>4</td>\n",
              "      <td>5</td>\n",
              "      <td>25</td>\n",
              "      <td>0</td>\n",
              "      <td>67</td>\n",
              "      <td>1</td>\n",
              "      <td>82</td>\n",
              "    </tr>\n",
              "  </tbody>\n",
              "</table>\n",
              "</div>\n",
              "      <button class=\"colab-df-convert\" onclick=\"convertToInteractive('df-11571c1c-a3ac-4091-9575-0cb95a08df8b')\"\n",
              "              title=\"Convert this dataframe to an interactive table.\"\n",
              "              style=\"display:none;\">\n",
              "        \n",
              "  <svg xmlns=\"http://www.w3.org/2000/svg\" height=\"24px\"viewBox=\"0 0 24 24\"\n",
              "       width=\"24px\">\n",
              "    <path d=\"M0 0h24v24H0V0z\" fill=\"none\"/>\n",
              "    <path d=\"M18.56 5.44l.94 2.06.94-2.06 2.06-.94-2.06-.94-.94-2.06-.94 2.06-2.06.94zm-11 1L8.5 8.5l.94-2.06 2.06-.94-2.06-.94L8.5 2.5l-.94 2.06-2.06.94zm10 10l.94 2.06.94-2.06 2.06-.94-2.06-.94-.94-2.06-.94 2.06-2.06.94z\"/><path d=\"M17.41 7.96l-1.37-1.37c-.4-.4-.92-.59-1.43-.59-.52 0-1.04.2-1.43.59L10.3 9.45l-7.72 7.72c-.78.78-.78 2.05 0 2.83L4 21.41c.39.39.9.59 1.41.59.51 0 1.02-.2 1.41-.59l7.78-7.78 2.81-2.81c.8-.78.8-2.07 0-2.86zM5.41 20L4 18.59l7.72-7.72 1.47 1.35L5.41 20z\"/>\n",
              "  </svg>\n",
              "      </button>\n",
              "      \n",
              "  <style>\n",
              "    .colab-df-container {\n",
              "      display:flex;\n",
              "      flex-wrap:wrap;\n",
              "      gap: 12px;\n",
              "    }\n",
              "\n",
              "    .colab-df-convert {\n",
              "      background-color: #E8F0FE;\n",
              "      border: none;\n",
              "      border-radius: 50%;\n",
              "      cursor: pointer;\n",
              "      display: none;\n",
              "      fill: #1967D2;\n",
              "      height: 32px;\n",
              "      padding: 0 0 0 0;\n",
              "      width: 32px;\n",
              "    }\n",
              "\n",
              "    .colab-df-convert:hover {\n",
              "      background-color: #E2EBFA;\n",
              "      box-shadow: 0px 1px 2px rgba(60, 64, 67, 0.3), 0px 1px 3px 1px rgba(60, 64, 67, 0.15);\n",
              "      fill: #174EA6;\n",
              "    }\n",
              "\n",
              "    [theme=dark] .colab-df-convert {\n",
              "      background-color: #3B4455;\n",
              "      fill: #D2E3FC;\n",
              "    }\n",
              "\n",
              "    [theme=dark] .colab-df-convert:hover {\n",
              "      background-color: #434B5C;\n",
              "      box-shadow: 0px 1px 3px 1px rgba(0, 0, 0, 0.15);\n",
              "      filter: drop-shadow(0px 1px 2px rgba(0, 0, 0, 0.3));\n",
              "      fill: #FFFFFF;\n",
              "    }\n",
              "  </style>\n",
              "\n",
              "      <script>\n",
              "        const buttonEl =\n",
              "          document.querySelector('#df-11571c1c-a3ac-4091-9575-0cb95a08df8b button.colab-df-convert');\n",
              "        buttonEl.style.display =\n",
              "          google.colab.kernel.accessAllowed ? 'block' : 'none';\n",
              "\n",
              "        async function convertToInteractive(key) {\n",
              "          const element = document.querySelector('#df-11571c1c-a3ac-4091-9575-0cb95a08df8b');\n",
              "          const dataTable =\n",
              "            await google.colab.kernel.invokeFunction('convertToInteractive',\n",
              "                                                     [key], {});\n",
              "          if (!dataTable) return;\n",
              "\n",
              "          const docLinkHtml = 'Like what you see? Visit the ' +\n",
              "            '<a target=\"_blank\" href=https://colab.research.google.com/notebooks/data_table.ipynb>data table notebook</a>'\n",
              "            + ' to learn more about interactive tables.';\n",
              "          element.innerHTML = '';\n",
              "          dataTable['output_type'] = 'display_data';\n",
              "          await google.colab.output.renderOutput(dataTable, element);\n",
              "          const docLink = document.createElement('div');\n",
              "          docLink.innerHTML = docLinkHtml;\n",
              "          element.appendChild(docLink);\n",
              "        }\n",
              "      </script>\n",
              "    </div>\n",
              "  </div>\n",
              "  "
            ],
            "text/plain": [
              "predict   0   1   2  3    4   5   6\n",
              "label                              \n",
              "0        18   9  12  1    5   0   3\n",
              "1        13  42  15  3   16   0   5\n",
              "2         7   9  74  0   58   0  18\n",
              "3         1   5   0  6    5   0   1\n",
              "4         2  16  29  3  961   3  50\n",
              "5         1   4   0  0    6  15   2\n",
              "6         4   5  25  0   67   1  82"
            ]
          },
          "metadata": {},
          "execution_count": 274
        }
      ]
    },
    {
      "cell_type": "code",
      "source": [
        "# 使用最後的模型進行測試資料預測\n",
        "load_test_img = pd.read_csv('project3_test.csv')\n",
        "img_test = load_test_img.values"
      ],
      "metadata": {
        "id": "e5cpBWuakTOi"
      },
      "execution_count": null,
      "outputs": []
    },
    {
      "cell_type": "code",
      "source": [
        "x_test=img_test.reshape(img_test.shape[0],28,28,3)\n",
        "x_test_normalize = x_test.astype('float32') / 255.0"
      ],
      "metadata": {
        "id": "DNiu0WdBkeGK"
      },
      "execution_count": null,
      "outputs": []
    },
    {
      "cell_type": "code",
      "source": [
        "df_submit = pd.DataFrame([], columns=['Id', 'Label'])\n",
        "df_submit['Id'] = [f'{i:04d}' for i in range(len(x_test_normalize))]\n",
        "df_submit['Label'] = np.argmax(model_cnn.predict(x_test_normalize), axis=-1)"
      ],
      "metadata": {
        "id": "yO1WNWdflZAC"
      },
      "execution_count": null,
      "outputs": []
    },
    {
      "cell_type": "code",
      "source": [
        "df_submit.to_csv('submission_CNN7.csv', index=None)"
      ],
      "metadata": {
        "id": "cMFSi44JlaTa"
      },
      "execution_count": null,
      "outputs": []
    },
    {
      "cell_type": "markdown",
      "source": [
        "# CNN"
      ],
      "metadata": {
        "id": "4ejFoitDz0_r"
      }
    },
    {
      "cell_type": "code",
      "source": [
        "x_img_train, x_img_test, y_label_train, y_label_test = train_test_split(X_img_train_normalize, y_label_train_OneHot, test_size=0.2, random_state=2)"
      ],
      "metadata": {
        "id": "gbjeswN-285C"
      },
      "execution_count": null,
      "outputs": []
    },
    {
      "cell_type": "code",
      "source": [
        "x_img_train_normalize = x_img_train.astype('float32') / 255.0\n",
        "x_img_test_normalize = x_img_test.astype('float32') / 255.0"
      ],
      "metadata": {
        "id": "_xKRSSVxZw9g"
      },
      "execution_count": null,
      "outputs": []
    },
    {
      "cell_type": "code",
      "source": [
        "# 轉換分類標籤成one-hot encoding\n",
        "y_label_train_OneHot = y_label_train\n",
        "y_label_test_OneHot = y_label_test"
      ],
      "metadata": {
        "id": "omfCILM9ZxWb"
      },
      "execution_count": null,
      "outputs": []
    },
    {
      "cell_type": "code",
      "source": [
        "from keras.models import Sequential\n",
        "from keras.layers import Dense, Dropout, Activation, Flatten\n",
        "from keras.layers import Conv2D, MaxPooling2D, ZeroPadding2D  #捲機、池化"
      ],
      "metadata": {
        "id": "Qg_wf-J8Rjrq"
      },
      "execution_count": null,
      "outputs": []
    },
    {
      "cell_type": "code",
      "source": [
        "# 搭建CNN模型的第一層\n",
        "model = Sequential()\n",
        "model.add(Conv2D(filters=32,kernel_size=(3,3),input_shape=(28,28,3),activation='relu', padding='same'))#激活函數\n",
        "\n",
        "# 設計卷積層與池化層、平坦層、全連接層\n",
        "\n",
        "model.add(MaxPooling2D(pool_size=(2,2)))\n",
        "model.add(Conv2D(filters=64, kernel_size=(3, 3),activation='relu', padding='same')) #可填入32/64\n",
        "model.add(MaxPooling2D(pool_size=(2, 2)))\n",
        "model.add(Conv2D(filters=128, kernel_size=(3, 3),activation='relu', padding='same')) #可填入32/64\n",
        "model.add(MaxPooling2D(pool_size=(2, 2)))\n",
        "\n",
        "\n",
        "model.add(Flatten())\n",
        "model.add(Dense(256, activation='relu'))  #可填入256/512\n",
        "#model.add(Dropout(0.25)) #隨機丟棄\n",
        "\n",
        "# 最後一層為輸出層\n",
        "model.add(Dense(7, activation='softmax'))"
      ],
      "metadata": {
        "id": "zn27Zrg9Rl1y"
      },
      "execution_count": null,
      "outputs": []
    },
    {
      "cell_type": "code",
      "source": [
        "model.summary()"
      ],
      "metadata": {
        "colab": {
          "base_uri": "https://localhost:8080/"
        },
        "id": "5bAMzfSsRsNK",
        "outputId": "aa9a8a9a-1e11-470d-b67f-a30db80b2c1e"
      },
      "execution_count": null,
      "outputs": [
        {
          "output_type": "stream",
          "name": "stdout",
          "text": [
            "Model: \"sequential_3\"\n",
            "_________________________________________________________________\n",
            " Layer (type)                Output Shape              Param #   \n",
            "=================================================================\n",
            " conv2d_10 (Conv2D)          (None, 28, 28, 32)        896       \n",
            "                                                                 \n",
            " max_pooling2d_10 (MaxPoolin  (None, 14, 14, 32)       0         \n",
            " g2D)                                                            \n",
            "                                                                 \n",
            " conv2d_11 (Conv2D)          (None, 14, 14, 64)        18496     \n",
            "                                                                 \n",
            " max_pooling2d_11 (MaxPoolin  (None, 7, 7, 64)         0         \n",
            " g2D)                                                            \n",
            "                                                                 \n",
            " conv2d_12 (Conv2D)          (None, 7, 7, 128)         73856     \n",
            "                                                                 \n",
            " max_pooling2d_12 (MaxPoolin  (None, 3, 3, 128)        0         \n",
            " g2D)                                                            \n",
            "                                                                 \n",
            " flatten_3 (Flatten)         (None, 1152)              0         \n",
            "                                                                 \n",
            " dense_6 (Dense)             (None, 256)               295168    \n",
            "                                                                 \n",
            " dense_7 (Dense)             (None, 7)                 1799      \n",
            "                                                                 \n",
            "=================================================================\n",
            "Total params: 390,215\n",
            "Trainable params: 390,215\n",
            "Non-trainable params: 0\n",
            "_________________________________________________________________\n"
          ]
        }
      ]
    },
    {
      "cell_type": "code",
      "source": [
        "# 打包網路模型\n",
        "model.compile(loss='categorical_crossentropy',\n",
        "       optimizer='adam', metrics=['categorical_accuracy'])"
      ],
      "metadata": {
        "id": "DdWVN2C1RsoX"
      },
      "execution_count": null,
      "outputs": []
    },
    {
      "cell_type": "code",
      "source": [
        "# 訓練網路模型\n",
        "# 開始訓練 (記得確認是否已設定使用GPU的運算資源)\n",
        "train_history=model.fit(x_img_train_normalize, y_label_train_OneHot,\n",
        "                        validation_split=0.2,\n",
        "                        epochs=5, batch_size=4, verbose=1)  "
      ],
      "metadata": {
        "colab": {
          "base_uri": "https://localhost:8080/"
        },
        "id": "1VfYLiVWRvxv",
        "outputId": "5bec858f-155d-4c93-ae98-50e06fd3ad00"
      },
      "execution_count": null,
      "outputs": [
        {
          "output_type": "stream",
          "name": "stdout",
          "text": [
            "Epoch 1/5\n",
            "1281/1281 [==============================] - 8s 7ms/step - loss: 1.1520 - categorical_accuracy: 0.6694 - val_loss: 1.1102 - val_categorical_accuracy: 0.6786\n",
            "Epoch 2/5\n",
            "1281/1281 [==============================] - 8s 6ms/step - loss: 1.1467 - categorical_accuracy: 0.6694 - val_loss: 1.1079 - val_categorical_accuracy: 0.6786\n",
            "Epoch 3/5\n",
            "1281/1281 [==============================] - 8s 6ms/step - loss: 1.1441 - categorical_accuracy: 0.6694 - val_loss: 1.1197 - val_categorical_accuracy: 0.6786\n",
            "Epoch 4/5\n",
            "1281/1281 [==============================] - 8s 6ms/step - loss: 1.1428 - categorical_accuracy: 0.6694 - val_loss: 1.1319 - val_categorical_accuracy: 0.6786\n",
            "Epoch 5/5\n",
            "1281/1281 [==============================] - 8s 6ms/step - loss: 1.1411 - categorical_accuracy: 0.6694 - val_loss: 1.1087 - val_categorical_accuracy: 0.6786\n"
          ]
        }
      ]
    },
    {
      "cell_type": "code",
      "source": [],
      "metadata": {
        "id": "9rrozByJRjve"
      },
      "execution_count": null,
      "outputs": []
    },
    {
      "cell_type": "code",
      "source": [
        "# 使用最後的模型進行測試資料預測\n",
        "load_test_img = pd.read_csv('project3_test.csv')\n",
        "img_test = load_test_img.values"
      ],
      "metadata": {
        "id": "F5FNeEN-2dCw"
      },
      "execution_count": null,
      "outputs": []
    },
    {
      "cell_type": "code",
      "source": [
        "x_test=img_test.reshape(img_test.shape[0],28,28,3)\n",
        "x_test_normalize = x_test.astype('float32') / 255.0"
      ],
      "metadata": {
        "id": "HZt4acqB2dDA"
      },
      "execution_count": null,
      "outputs": []
    },
    {
      "cell_type": "code",
      "source": [
        "df_submit = pd.DataFrame([], columns=['Id', 'Label'])\n",
        "df_submit['Id'] = [f'{i:04d}' for i in range(len(x_test_normalize))]\n",
        "df_submit['Label'] = np.argmax(model.predict(x_test_normalize), axis=-1)"
      ],
      "metadata": {
        "id": "w68vuf662dDA"
      },
      "execution_count": null,
      "outputs": []
    },
    {
      "cell_type": "code",
      "source": [
        "df_submit.to_csv('submission_CNN4.csv', index=None)"
      ],
      "metadata": {
        "id": "X5p9QiHg2dDA"
      },
      "execution_count": null,
      "outputs": []
    }
  ],
  "metadata": {
    "anaconda-cloud": {},
    "kernelspec": {
      "display_name": "Python 3",
      "language": "python",
      "name": "python3"
    },
    "language_info": {
      "codemirror_mode": {
        "name": "ipython",
        "version": 3
      },
      "file_extension": ".py",
      "mimetype": "text/x-python",
      "name": "python",
      "nbconvert_exporter": "python",
      "pygments_lexer": "ipython3",
      "version": "3.7.4"
    },
    "colab": {
      "provenance": [],
      "collapsed_sections": [
        "HPuL5bY9qpnD",
        "1H3QsbaKW6Wp"
      ]
    },
    "accelerator": "GPU"
  },
  "nbformat": 4,
  "nbformat_minor": 0
}